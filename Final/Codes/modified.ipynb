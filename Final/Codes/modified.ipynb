{
 "cells": [
  {
   "cell_type": "code",
   "execution_count": 14,
   "metadata": {},
   "outputs": [],
   "source": [
    "import h5py \n",
    "import numpy as np\n",
    "import matplotlib.pyplot as plt \n",
    "import matplotlib.image as mpimg \n",
    "from PIL import Image\n",
    "import os \n",
    "import skimage.io as io"
   ]
  },
  {
   "cell_type": "markdown",
   "metadata": {},
   "source": [
    "THE ONLY DATA USED IN THIS PROGRAM IS all_mias_scans.h5\n",
    "The problem of 322 and 330 is that: the class column is the label of the abnormality in the images which MAY NOT BE ONLY ONE. So some images has two labels because it has two tumors with different class. The classes are:\n",
    "CALC Calcification CIRC Well-defined/circumscribed masses SPIC Spiculated masses MISC Other, ill-defined masses ARCH Architectural distortion ASYM Asymmetry NORM Normal\n",
    "where only NORM means nothing abnormal happened, the others all says this image has a tumor with certain class"
   ]
  },
  {
   "cell_type": "code",
   "execution_count": 15,
   "metadata": {},
   "outputs": [],
   "source": [
    "def clear2(lenaaa):\n",
    "#This function is to clear the white line and bright spot of the images\n",
    "    m = 0\n",
    "    n = 0\n",
    "    for i in range(0,1024):\n",
    "        for j in range(512,1024):\n",
    "            if lenaaa[i,j]==0:\n",
    "                lenaaa[i,j:1024]=0\n",
    "    return lenaaa\n"
   ]
  },
  {
   "cell_type": "code",
   "execution_count": 16,
   "metadata": {},
   "outputs": [],
   "source": [
    "from numpy import *\n",
    "\n",
    "'''通过方差的百分比来计算将数据降到多少维是比较合适的，\n",
    "函数传入的参数是特征值和百分比percentage，返回需要降到的维度数num'''\n",
    "def eigValPct(eigVals,percentage):\n",
    "    \n",
    "    \n",
    "#This cell is simply a function i write to replace the PCA in sklearn,ignore the chinese words.\n",
    "\n",
    "\n",
    "    sortArray=sort(eigVals) #使用numpy中的sort()对特征值按照从小到大排序\n",
    "    sortArray=sortArray[-1::-1] #特征值从大到小排序\n",
    "    arraySum=sum(sortArray) #数据全部的方差arraySum\n",
    "    tempSum=0\n",
    "    num=0\n",
    "    for i in sortArray:\n",
    "        tempSum+=i\n",
    "        num+=1\n",
    "        if tempSum>=arraySum*percentage:\n",
    "            return num\n",
    "\n",
    "'''pca函数有两个参数，其中dataMat是已经转换成矩阵matrix形式的数据集，列表示特征；\n",
    "其中的percentage表示取前多少个特征需要达到的方差占比，默认为0.9'''\n",
    "def pca(dataMat,percentage=0.8):\n",
    "    meanVals=mean(dataMat,axis=0)  #对每一列求平均值，因为协方差的计算中需要减去均值\n",
    "    meanRemoved=dataMat-meanVals\n",
    "    covMat=cov(meanRemoved,rowvar=0)  #cov()计算方差\n",
    "    eigVals,eigVects=linalg.eig(mat(covMat))  #利用numpy中寻找特征值和特征向量的模块linalg中的eig()方法\n",
    "    k=4 #要达到方差的百分比percentage，需要前k个向量\n",
    "    eigValInd=argsort(eigVals)  #对特征值eigVals从小到大排序\n",
    "    eigValInd=eigValInd[:-(k+1):-1] #从排好序的特征值，从后往前取k个，这样就实现了特征值的从大到小排列\n",
    "    redEigVects=eigVects[:,eigValInd]   #返回排序后特征值对应的特征向量redEigVects（主成分）\n",
    "    lowDDataMat=meanRemoved*redEigVects #将原始数据投影到主成分上得到新的低维数据lowDDataMat\n",
    "    reconMat=(lowDDataMat*redEigVects.T)+meanVals   #得到重构数据reconMat\n",
    "    return lowDDataMat,reconMat"
   ]
  },
  {
   "cell_type": "code",
   "execution_count": 20,
   "metadata": {},
   "outputs": [],
   "source": [
    "with h5py.File('/Users/nizheng/Desktop/mias-mammography/all_mias_scans.h5', 'r') as scan_h5:\n",
    "    bg_info = scan_h5['BG'][:]\n",
    "    class_info = scan_h5['CLASS'][:]\n",
    "    # low res scans\n",
    "    scan_lr = scan_h5['scan'][:]\n",
    "    index_lr = scan_h5['REFNUM'][:]\n",
    "    x_lr = scan_h5['X'][:]\n",
    "    y_lr = scan_h5['Y'][:]\n",
    "    r_lr = scan_h5['RADIUS'][:]\n",
    "#read images\n",
    "index = np.zeros(330)\n",
    "coll = scan_lr\n",
    "for i in range(0,330):\n",
    "    index[i] = int(index_lr[i][3:6])\n",
    "a = np.where(index%2 == 1)\n",
    "for k in a:\n",
    "    for i in range(0,1024):\n",
    "        for j in range(0,512):\n",
    "            u = coll[k,i,j]\n",
    "            coll[k,i,j] = coll[k,i,1023-j]\n",
    "            coll[k,i,1023-j] = u\n",
    "#change right to left"
   ]
  },
  {
   "cell_type": "code",
   "execution_count": 21,
   "metadata": {},
   "outputs": [
    {
     "name": "stdout",
     "output_type": "stream",
     "text": [
      "127.0 687.0\n",
      "230.0 632.0\n",
      "159.0 898.0\n",
      "149.0 994.0\n"
     ]
    },
    {
     "data": {
      "text/plain": [
       "994.0"
      ]
     },
     "execution_count": 21,
     "metadata": {},
     "output_type": "execute_result"
    }
   ],
   "source": [
    "ss=1023-x_lr[np.where(index%2 == 1)]\n",
    "ss2=1023-y_lr[np.where(index%2 == 1)]\n",
    "print(min(x_lr[np.where(index%2 == 0)]),max(x_lr[np.where(index%2 == 0)]))\n",
    "print(min(ss),max(ss))\n",
    "\n",
    "print(min(ss2),max(ss2))\n",
    "print(min(y_lr[np.where(index%2 == 0)]),max(y_lr[np.where(index%2 == 0)]))\n",
    "max(y_lr)"
   ]
  },
  {
   "cell_type": "code",
   "execution_count": 22,
   "metadata": {},
   "outputs": [
    {
     "data": {
      "text/plain": [
       "40"
      ]
     },
     "execution_count": 22,
     "metadata": {},
     "output_type": "execute_result"
    }
   ],
   "source": [
    "coll[coll<40]=0\n",
    "np.min(coll[coll>0])"
   ]
  },
  {
   "cell_type": "code",
   "execution_count": 23,
   "metadata": {},
   "outputs": [],
   "source": [
    "for i in range(0,330):\n",
    "    coll[i] = clear2(coll[i])"
   ]
  },
  {
   "cell_type": "code",
   "execution_count": 24,
   "metadata": {},
   "outputs": [],
   "source": [
    "#image processing for some rare occasions\n",
    "coll[287,960:1024,0:1024] = np.zeros((64,1024))\n",
    "coll[287,400:1024,790:1024] = np.zeros((1,1))\n",
    "coll[287,880:1000,500:600] = np.zeros((1,1))\n",
    "coll[281,960:1024,0:1024] = np.zeros((64,1024))\n",
    "coll[281,400:1024,790:1024] = np.zeros((1,1))\n",
    "coll[281,900:1000,600:700] = np.zeros((1,1))"
   ]
  },
  {
   "cell_type": "code",
   "execution_count": 25,
   "metadata": {},
   "outputs": [],
   "source": [
    "for k in a:\n",
    "    for i in range(0,1024):\n",
    "        for j in range(0,512):\n",
    "            u = coll[k,i,j]\n",
    "            coll[k,i,j] = coll[k,i,1023-j]\n",
    "            coll[k,i,1023-j] = u"
   ]
  },
  {
   "cell_type": "code",
   "execution_count": 26,
   "metadata": {},
   "outputs": [
    {
     "name": "stderr",
     "output_type": "stream",
     "text": [
      "/Users/nizheng/anaconda3/lib/python3.6/site-packages/ipykernel_launcher.py:4: ComplexWarning: Casting complex values to real discards the imaginary part\n",
      "  after removing the cwd from sys.path.\n"
     ]
    }
   ],
   "source": [
    "#using pca to do dimensional deduction\n",
    "mmmm = np.zeros((330,1024,4))\n",
    "for i in range(0,330):\n",
    "    mmmm[i] = pca(coll[i])[0]"
   ]
  },
  {
   "cell_type": "code",
   "execution_count": 27,
   "metadata": {},
   "outputs": [],
   "source": [
    "badindex = np.where(~isnan(x_lr))\n",
    "goodindex = np.where(isnan(x_lr))\n",
    "y_bad = y_lr[badindex]\n",
    "x_bad = x_lr[badindex]\n",
    "r_bad = r_lr[badindex]\n",
    "pic_bad = scan_lr[badindex]\n",
    "pic_good = scan_lr[goodindex]\n",
    "\n",
    "r=20\n",
    "nbad=2\n",
    "ngood=5\n",
    "\n",
    "core_bad=np.zeros((len(x_bad)*nbad,r*2,r*2))\n",
    "core_good=np.zeros((len(pic_good)*ngood,r*2,r*2))\n",
    "move=np.array([1023,1023])\n",
    "\n",
    "for i in range(len(x_bad)):\n",
    "    core_bad[i*nbad] = pic_bad[i,(1023-int(y_bad[i])-r):(1023-int(y_bad[i])+r),(int(x_bad[i])-r):(int(x_bad[i])+r)]\n",
    "    for j in range(1,nbad):\n",
    "        move=np.array([1023,1023])\n",
    "        while move[0]+int(y_bad[i])-r<0 or move[0]+int(y_bad[i])+r>1023 or int(x_bad[i])-r+move[1]<0 or int(x_bad[i])-r+move[1]>1023:\n",
    "            move=np.random.randint(-10,10,2)\n",
    "        core_bad[i*nbad+j]=pic_bad[i,(1023-int(y_bad[i])+move[0]-r):(1023-int(y_bad[i])+move[0]+r),(int(x_bad[i])+move[1]-r):(int(x_bad[i])+move[1]+r)]\n",
    "        \n",
    "        \n",
    "for i in range(len(pic_good)):\n",
    "    for j in range(ngood):\n",
    "        while ~core_good[i*ngood+j].all():\n",
    "            index_rand=np.random.randint(r,1023-r,2)\n",
    "            core_good[i*ngood+j] = pic_good[i,(index_rand[0]-r):(index_rand[0]+r),(index_rand[1]-r):(index_rand[1]+r)]"
   ]
  },
  {
   "cell_type": "code",
   "execution_count": 28,
   "metadata": {},
   "outputs": [
    {
     "data": {
      "text/plain": [
       "array([b'BALA', b'NORM'], dtype='|S4')"
      ]
     },
     "execution_count": 28,
     "metadata": {},
     "output_type": "execute_result"
    }
   ],
   "source": [
    "\n",
    "#train test split\n",
    "mmmm = np.zeros((len(core_bad)+len(core_good),2*r,2*r))\n",
    "mmmm[0:len(core_bad),]=core_bad\n",
    "mmmm[len(core_bad):len(core_bad)+len(core_good),]=core_good\n",
    "scan_lr_flat = mmmm.reshape((mmmm.shape[0],-1))\n",
    "\n",
    "class_info = class_info[np.append(badindex[0].repeat(nbad),goodindex[0].repeat(ngood))]\n",
    "for i in range(len(mmmm)):\n",
    "    if class_info[i] != class_info[len(class_info)-1]:\n",
    "        class_info[i] = 'BALA'\n",
    "from sklearn.preprocessing import LabelEncoder\n",
    "class_le = LabelEncoder()\n",
    "class_le.fit(class_info)\n",
    "class_vec = class_le.transform(class_info)\n",
    "class_le.classes_\n",
    "\n"
   ]
  },
  {
   "cell_type": "code",
   "execution_count": 35,
   "metadata": {},
   "outputs": [
    {
     "name": "stdout",
     "output_type": "stream",
     "text": [
      "Training (646, 1600)\n",
      "Testing (647, 1600)\n"
     ]
    }
   ],
   "source": [
    "from sklearn.model_selection import train_test_split\n",
    "idx_vec = np.arange(scan_lr_flat.shape[0])\n",
    "x_train, x_test, y_train, y_test, idx_train, idx_test = train_test_split(scan_lr_flat, \n",
    "                                                    class_vec, \n",
    "                                                    idx_vec,\n",
    "                                                   test_size = 0.5,\n",
    "                                                   stratify = class_vec)\n",
    "print('Training', x_train.shape)\n",
    "print('Testing', x_test.shape)"
   ]
  },
  {
   "cell_type": "code",
   "execution_count": 30,
   "metadata": {},
   "outputs": [
    {
     "name": "stdout",
     "output_type": "stream",
     "text": [
      "505.0 793.0\n",
      "125.0 994.0\n"
     ]
    }
   ],
   "source": [
    "print(median(x_bad),max(x_bad))\n",
    "print(min(y_bad),max(y_bad))"
   ]
  },
  {
   "cell_type": "code",
   "execution_count": 151,
   "metadata": {},
   "outputs": [],
   "source": [
    "Xtest=np.zeros(((1024//r)*(1024//r),2*r,2*r))\n",
    "\n",
    "pic=pic_bad[109]\n",
    "for i in range(1024//r-1):\n",
    "    for j in range(1024//r-1):\n",
    "        Xtest[i*1024//r+j]=pic[(i*r):(i*r+2*r),(j*r):(j*r+2*r)]\n",
    "\n",
    "Temp=np.zeros(len(Xtest))\n",
    "for i in range(len(Xtest)):\n",
    "    if Xtest[i].all():\n",
    "        Temp[i]=1\n",
    "Xtest=Xtest[np.where(Temp==1)[0]]  \n",
    "x_test=Xtest.reshape(Xtest.shape[0],-1)\n",
    "y_test=np.array([1]).repeat(Xtest.shape[0])"
   ]
  },
  {
   "cell_type": "code",
   "execution_count": 183,
   "metadata": {},
   "outputs": [],
   "source": [
    "sss_train=np.zeros((len(core_bad)+len(core_good),40,4))\n",
    "for i in range(0,len(core_bad)+len(core_good)):\n",
    "    sss_train[i] = pca(mmmm[i])[0]\n",
    "x_train=sss_train.reshape(sss_train.shape[0],-1)\n",
    "y_train=class_vec\n",
    "x_test=sss_train.reshape(sss_train.shape[0],-1)\n",
    "y_test=class_vec"
   ]
  },
  {
   "cell_type": "code",
   "execution_count": 917,
   "metadata": {},
   "outputs": [],
   "source": [
    "sss = np.zeros((960,40,4))\n",
    "for i in range(0,960):\n",
    "    sss[i] = pca(Xtest[i])[0]\n",
    "x_test=sss.reshape(sss.shape[0],-1)"
   ]
  },
  {
   "cell_type": "code",
   "execution_count": 879,
   "metadata": {},
   "outputs": [
    {
     "data": {
      "text/plain": [
       "(1228,)"
      ]
     },
     "execution_count": 879,
     "metadata": {},
     "output_type": "execute_result"
    }
   ],
   "source": [
    "class_vec.shape"
   ]
  },
  {
   "cell_type": "code",
   "execution_count": 36,
   "metadata": {},
   "outputs": [],
   "source": [
    "#a better report instead of only accuracy\n",
    "from sklearn.metrics import classification_report, accuracy_score, confusion_matrix\n",
    "creport = lambda gt_vec,pred_vec: classification_report(gt_vec, pred_vec, \n",
    "                                                        target_names = [x.decode() for x in \n",
    "                                                                        class_le.classes_])"
   ]
  },
  {
   "cell_type": "code",
   "execution_count": 37,
   "metadata": {},
   "outputs": [
    {
     "name": "stdout",
     "output_type": "stream",
     "text": [
      "Accuracy 84.39%\n",
      "             precision    recall  f1-score   support\n",
      "\n",
      "       BALA       0.80      0.29      0.42       129\n",
      "       NORM       0.85      0.98      0.91       518\n",
      "\n",
      "avg / total       0.84      0.84      0.81       647\n",
      "\n"
     ]
    }
   ],
   "source": [
    "#knn\n",
    "from sklearn.neighbors import KNeighborsClassifier\n",
    "knn = KNeighborsClassifier()\n",
    "knn.fit(x_train, y_train)\n",
    "y_pred = knn.predict(x_test)\n",
    "print('Accuracy %2.2f%%' % (100*accuracy_score(y_test, y_pred)))\n",
    "print(creport(y_test, y_pred))"
   ]
  },
  {
   "cell_type": "code",
   "execution_count": 153,
   "metadata": {},
   "outputs": [
    {
     "name": "stdout",
     "output_type": "stream",
     "text": [
      "1\n",
      "1194\n",
      "1020.0\n"
     ]
    }
   ],
   "source": [
    "if model_acc*len(y_pred)<sum(y_pred):\n",
    "    print(1)\n",
    "else:\n",
    "    print(0)\n",
    "print(sum(y_pred))\n",
    "print(model_acc*len(y_pred))"
   ]
  },
  {
   "cell_type": "code",
   "execution_count": 132,
   "metadata": {},
   "outputs": [
    {
     "data": {
      "text/plain": [
       "0.83"
      ]
     },
     "execution_count": 132,
     "metadata": {},
     "output_type": "execute_result"
    }
   ],
   "source": [
    "model_acc=float(asD.capitalize()[125:129])\n",
    "model_acc\n",
    "asD=creport(y_test, y_pred)\n",
    "float(asD.capitalize()[125:129])"
   ]
  },
  {
   "cell_type": "code",
   "execution_count": 73,
   "metadata": {},
   "outputs": [
    {
     "name": "stdout",
     "output_type": "stream",
     "text": [
      "(array([], dtype=int64),) (array([  1,  23,  24,  52, 112, 113, 114, 142, 143]),)\n"
     ]
    },
    {
     "data": {
      "text/plain": [
       "(array([], dtype=int64),)"
      ]
     },
     "execution_count": 73,
     "metadata": {},
     "output_type": "execute_result"
    }
   ],
   "source": [
    "print(np.where(y_test==0),np.where(y_pred==0))\n",
    "np.where(y_test==0)"
   ]
  },
  {
   "cell_type": "code",
   "execution_count": 38,
   "metadata": {
    "scrolled": false
   },
   "outputs": [
    {
     "name": "stdout",
     "output_type": "stream",
     "text": [
      "Accuracy 84.70%\n",
      "             precision    recall  f1-score   support\n",
      "\n",
      "       BALA       0.66      0.48      0.56       129\n",
      "       NORM       0.88      0.94      0.91       518\n",
      "\n",
      "avg / total       0.84      0.85      0.84       647\n",
      "\n"
     ]
    }
   ],
   "source": [
    "#random forest\n",
    "from sklearn.ensemble import RandomForestClassifier\n",
    "rfc = RandomForestClassifier()\n",
    "rfc.fit(x_train, y_train)\n",
    "y_pred = rfc.predict(x_test)\n",
    "print('Accuracy %2.2f%%' % (100*accuracy_score(y_test, y_pred)))\n",
    "print(creport(y_test, y_pred))"
   ]
  },
  {
   "cell_type": "code",
   "execution_count": 174,
   "metadata": {},
   "outputs": [
    {
     "data": {
      "text/plain": [
       "10"
      ]
     },
     "execution_count": 174,
     "metadata": {},
     "output_type": "execute_result"
    }
   ],
   "source": []
  },
  {
   "cell_type": "code",
   "execution_count": 39,
   "metadata": {},
   "outputs": [
    {
     "name": "stdout",
     "output_type": "stream",
     "text": [
      "1.0\n",
      "Accuracy 57.03%\n",
      "             precision    recall  f1-score   support\n",
      "\n",
      "       BALA       0.19      0.36      0.25       129\n",
      "       NORM       0.80      0.62      0.70       518\n",
      "\n",
      "avg / total       0.68      0.57      0.61       647\n",
      "\n"
     ]
    }
   ],
   "source": [
    "#svm\n",
    "from sklearn import svm\n",
    "clf = svm.SVC(kernel=\"linear\",C=0.8)\n",
    "clf.fit(x_train, y_train)\n",
    "print (clf.score(x_train, y_train))  # 精度\n",
    "y_pred = clf.predict(x_test)\n",
    "print('Accuracy %2.2f%%' % (100*accuracy_score(y_test, y_pred)))\n",
    "print(creport(y_test, y_pred))"
   ]
  },
  {
   "cell_type": "code",
   "execution_count": 1116,
   "metadata": {},
   "outputs": [
    {
     "data": {
      "text/plain": [
       "1077"
      ]
     },
     "execution_count": 1116,
     "metadata": {},
     "output_type": "execute_result"
    }
   ],
   "source": [
    "sum(y_pred)"
   ]
  },
  {
   "cell_type": "code",
   "execution_count": 931,
   "metadata": {},
   "outputs": [
    {
     "data": {
      "text/plain": [
       "211"
      ]
     },
     "execution_count": 931,
     "metadata": {},
     "output_type": "execute_result"
    }
   ],
   "source": [
    "len(pic_good)"
   ]
  },
  {
   "cell_type": "code",
   "execution_count": 841,
   "metadata": {},
   "outputs": [],
   "source": [
    "sum_good=np.zeros(len(pic_good))\n",
    "ratio_good=np.zeros(len(pic_good))\n",
    "for n in range(len(pic_good)):\n",
    "    Xtest=np.zeros(((1024//r)*(1024//r),2*r,2*r))\n",
    "\n",
    "    pic=pic_good[n]\n",
    "    for i in range(1024//r-1):\n",
    "        for j in range(1024//r-1):\n",
    "            Xtest[i*1024//r+j]=pic[(i*r):(i*r+2*r),(j*r):(j*r+2*r)]\n",
    "\n",
    "    Temp=np.zeros(len(Xtest))\n",
    "    for i in range(len(Xtest)):\n",
    "        if Xtest[i].all():\n",
    "            Temp[i]=1\n",
    "    Xtest=Xtest[np.where(Temp==1)[0]]  \n",
    "    x_test=Xtest.reshape(Xtest.shape[0],-1)\n",
    "    y_test=np.array([0]).repeat(Xtest.shape[0])\n",
    "\n",
    "    #a better report instead of only accuracy\n",
    "    from sklearn.metrics import classification_report, accuracy_score, confusion_matrix\n",
    "    creport = lambda gt_vec,pred_vec: classification_report(gt_vec, pred_vec, \n",
    "                                                            target_names = [x.decode() for x in \n",
    "                                                                            class_le.classes_])\n",
    "\n",
    "    #knn\n",
    "    from sklearn.neighbors import KNeighborsClassifier\n",
    "    knn = KNeighborsClassifier()\n",
    "    knn.fit(x_train, y_train)\n",
    "    y_pred = knn.predict(x_test)\n",
    "    #print('Accuracy %2.2f%%' % (100*accuracy_score(y_test, y_pred)))\n",
    "    #print(creport(y_test, y_pred))\n",
    "\n",
    "    sum_good[n]=sum(y_pred==0)\n",
    "    ratio_good[n]=sum_good[n]/len(y_pred)"
   ]
  },
  {
   "cell_type": "code",
   "execution_count": 847,
   "metadata": {},
   "outputs": [
    {
     "data": {
      "text/plain": [
       "(array([ 3.,  4.,  6.,  6., 12., 10., 17., 11., 19., 15.,  9., 11., 17.,\n",
       "        18., 13.,  9.,  3.,  3.,  7.,  5.,  4.,  3.,  3.,  2.,  0.,  0.,\n",
       "         1.,  0.,  0.,  0.]),\n",
       " array([0.1       , 0.11333333, 0.12666667, 0.14      , 0.15333333,\n",
       "        0.16666667, 0.18      , 0.19333333, 0.20666667, 0.22      ,\n",
       "        0.23333333, 0.24666667, 0.26      , 0.27333333, 0.28666667,\n",
       "        0.3       , 0.31333333, 0.32666667, 0.34      , 0.35333333,\n",
       "        0.36666667, 0.38      , 0.39333333, 0.40666667, 0.42      ,\n",
       "        0.43333333, 0.44666667, 0.46      , 0.47333333, 0.48666667,\n",
       "        0.5       ]),\n",
       " <a list of 30 Patch objects>)"
      ]
     },
     "execution_count": 847,
     "metadata": {},
     "output_type": "execute_result"
    },
    {
     "data": {
      "image/png": "[encoded data removed]",
      "text/plain": [
       "<Figure size 432x288 with 1 Axes>"
      ]
     },
     "metadata": {},
     "output_type": "display_data"
    }
   ],
   "source": [
    "plt.hist(ratio_good,bins=30,range=[0.1,0.5])"
   ]
  },
  {
   "cell_type": "code",
   "execution_count": 846,
   "metadata": {},
   "outputs": [
    {
     "data": {
      "text/plain": [
       "(array([ 0.,  2.,  5.,  1.,  7.,  7.,  7.,  3.,  5., 11., 10., 10., 13.,\n",
       "         6.,  6.,  5.,  5.,  2.,  2.,  1.,  2.,  2.,  3.,  0.,  2.,  0.,\n",
       "         0.,  1.,  0.,  0.]),\n",
       " array([0.1       , 0.11333333, 0.12666667, 0.14      , 0.15333333,\n",
       "        0.16666667, 0.18      , 0.19333333, 0.20666667, 0.22      ,\n",
       "        0.23333333, 0.24666667, 0.26      , 0.27333333, 0.28666667,\n",
       "        0.3       , 0.31333333, 0.32666667, 0.34      , 0.35333333,\n",
       "        0.36666667, 0.38      , 0.39333333, 0.40666667, 0.42      ,\n",
       "        0.43333333, 0.44666667, 0.46      , 0.47333333, 0.48666667,\n",
       "        0.5       ]),\n",
       " <a list of 30 Patch objects>)"
      ]
     },
     "execution_count": 846,
     "metadata": {},
     "output_type": "execute_result"
    },
    {
     "data": {
      "image/png": "[encoded data removed]",
      "text/plain": [
       "<Figure size 432x288 with 1 Axes>"
      ]
     },
     "metadata": {},
     "output_type": "display_data"
    }
   ],
   "source": [
    "plt.hist(ratio_bad,bins=30,range=[0.1,0.5])\n"
   ]
  },
  {
   "cell_type": "code",
   "execution_count": 833,
   "metadata": {},
   "outputs": [],
   "source": [
    "sum_bad=np.zeros(len(pic_bad))\n",
    "for n in range(len(pic_bad)):\n",
    "    Xtest=np.zeros(((1024//r)*(1024//r),2*r,2*r))\n",
    "\n",
    "    pic=pic_bad[n]\n",
    "    for i in range(1024//r-1):\n",
    "        for j in range(1024//r-1):\n",
    "            Xtest[i*1024//r+j]=pic[(i*r):(i*r+2*r),(j*r):(j*r+2*r)]\n",
    "\n",
    "    Temp=np.zeros(len(Xtest))\n",
    "    for i in range(len(Xtest)):\n",
    "        if Xtest[i].all():\n",
    "            Temp[i]=1\n",
    "    Xtest=Xtest[np.where(Temp==1)[0]]  \n",
    "    x_test=Xtest.reshape(Xtest.shape[0],-1)\n",
    "    y_test=np.array([0]).repeat(Xtest.shape[0])\n",
    "\n",
    "    #a better report instead of only accuracy\n",
    "    from sklearn.metrics import classification_report, accuracy_score, confusion_matrix\n",
    "    creport = lambda gt_vec,pred_vec: classification_report(gt_vec, pred_vec, \n",
    "                                                            target_names = [x.decode() for x in \n",
    "                                                                            class_le.classes_])\n",
    "\n",
    "    #knn\n",
    "    from sklearn.neighbors import KNeighborsClassifier\n",
    "    knn = KNeighborsClassifier()\n",
    "    knn.fit(x_train, y_train)\n",
    "    y_pred = knn.predict(x_test)\n",
    "    #print('Accuracy %2.2f%%' % (100*accuracy_score(y_test, y_pred)))\n",
    "    #print(creport(y_test, y_pred))\n",
    "\n",
    "    sum_bad[n]=sum(y_pred==0)\n",
    "    ratio_bad[n]=sum_bad[n]/len(y_pred)"
   ]
  },
  {
   "cell_type": "code",
   "execution_count": 820,
   "metadata": {},
   "outputs": [
    {
     "name": "stdout",
     "output_type": "stream",
     "text": [
      "0.5462184873949579 0.5592417061611374\n"
     ]
    }
   ],
   "source": [
    "for n in range(int(min(min(sum_bad),min(sum_good))),int(max(max(sum_bad),max(sum_good)))):\n",
    "    if sum(sum_bad>n)/len(sum_bad) <= sum(sum_good<n)/len(sum_good):\n",
    "        break\n",
    "print(sum(sum_bad>n)/len(sum_bad),sum(sum_good<n)/len(sum_good))"
   ]
  }
 ],
 "metadata": {
  "kernelspec": {
   "display_name": "Python 3",
   "language": "python",
   "name": "python3"
  },
  "language_info": {
   "codemirror_mode": {
    "name": "ipython",
    "version": 3
   },
   "file_extension": ".py",
   "mimetype": "text/x-python",
   "name": "python",
   "nbconvert_exporter": "python",
   "pygments_lexer": "ipython3",
   "version": "3.6.5"
  }
 },
 "nbformat": 4,
 "nbformat_minor": 2
}
